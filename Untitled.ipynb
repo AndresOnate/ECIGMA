{
 "cells": [
  {
   "cell_type": "markdown",
   "id": "9b725cf6",
   "metadata": {},
   "source": [
    "# ECIGMA\n",
    "\n",
    "Andrés Camilo Oñate Quimbayo\n"
   ]
  },
  {
   "cell_type": "markdown",
   "id": "5b42c4c7",
   "metadata": {},
   "source": [
    "## 1. Estructuras de datos "
   ]
  },
  {
   "cell_type": "markdown",
   "id": "65a18db8",
   "metadata": {},
   "source": [
    "### 1.1 Union Find"
   ]
  },
  {
   "cell_type": "code",
   "execution_count": null,
   "id": "7a5b1621",
   "metadata": {},
   "outputs": [],
   "source": []
  }
 ],
 "metadata": {
  "kernelspec": {
   "display_name": "cnyt",
   "language": "python",
   "name": "cnyt"
  },
  "language_info": {
   "codemirror_mode": {
    "name": "ipython",
    "version": 3
   },
   "file_extension": ".py",
   "mimetype": "text/x-python",
   "name": "python",
   "nbconvert_exporter": "python",
   "pygments_lexer": "ipython3",
   "version": "3.7.10"
  }
 },
 "nbformat": 4,
 "nbformat_minor": 5
}
